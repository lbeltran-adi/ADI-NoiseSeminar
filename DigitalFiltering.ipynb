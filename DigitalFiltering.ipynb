{
  "nbformat": 4,
  "nbformat_minor": 0,
  "metadata": {
    "colab": {
      "provenance": [],
      "authorship_tag": "ABX9TyPlMxWp3aVlkMtjzS0MJB/t",
      "include_colab_link": true
    },
    "kernelspec": {
      "name": "python3",
      "display_name": "Python 3"
    },
    "language_info": {
      "name": "python"
    }
  },
  "cells": [
    {
      "cell_type": "markdown",
      "metadata": {
        "id": "view-in-github",
        "colab_type": "text"
      },
      "source": [
        "<a href=\"https://colab.research.google.com/github/lbeltran-adi/SemitronSeminar/blob/main/DigitalFiltering.ipynb\" target=\"_parent\"><img src=\"https://colab.research.google.com/assets/colab-badge.svg\" alt=\"Open In Colab\"/></a>"
      ]
    },
    {
      "cell_type": "markdown",
      "source": [
        "# First of all, let's import the data gathered from LT1752, ADA4077 and ADA4522"
      ],
      "metadata": {
        "id": "B4Y3W4RNIoFb"
      }
    },
    {
      "cell_type": "code",
      "source": [
        "import pandas as pd\n",
        "\n",
        "#Import the datasets:\n",
        "url         = 'https://raw.githubusercontent.com/lbeltran-adi/SemitronSeminar/main/oscilloscope_data.csv'\n",
        "lt1782_url  = 'https://raw.githubusercontent.com/lbeltran-adi/SemitronSeminar/main/LT1752_Low_Power.csv'\n",
        "ada4077_url = 'https://raw.githubusercontent.com/lbeltran-adi/SemitronSeminar/main/ADA4077_Low_Noise.csv'\n",
        "ada4522_url = 'https://raw.githubusercontent.com/lbeltran-adi/SemitronSeminar/main/ADA4522_Zero_Drift.csv'\n",
        "\n",
        "#create a dataframe with each of them\n",
        "adalm2000_df = pd.read_csv(url)\n",
        "lt1782_df    = pd.read_csv(lt1752_url)\n",
        "ada4077_df   = pd.read_csv(ada4077_url)\n",
        "ada4522_df    = pd.read_csv(ada4522_url)\n"
      ],
      "metadata": {
        "id": "XhBLemYB1lI7"
      },
      "execution_count": 72,
      "outputs": []
    },
    {
      "cell_type": "markdown",
      "source": [
        "# Let's take the Oscilloscope Data when LT1782 was selected on the demo board...\n"
      ],
      "metadata": {
        "id": "B6viaYXHEAqV"
      }
    },
    {
      "cell_type": "code",
      "source": [
        "#@title Plot the LT1782 Data\n",
        "\n",
        "import pandas as pd\n",
        "import matplotlib.pyplot as plt\n",
        "import numpy as np\n",
        "\n",
        "\n",
        "# Extract the data from the DataFrame\n",
        "time = lt1752_df['Time(S)']\n",
        "ch1 = lt1752_df['CH1(V)']\n",
        "\n",
        "# Plot 'CH1(V)' against 'Time(s)'\n",
        "plt.figure(figsize=(10, 6))\n",
        "plt.plot(time, ch1)\n",
        "plt.xlabel('Time (s)')\n",
        "plt.ylabel('CH1 (V)')\n",
        "plt.title('CH1 vs Time')\n",
        "plt.grid(True)\n",
        "plt.show()\n",
        "\n",
        "# Calculate the RMS value\n",
        "rms = np.sqrt(np.mean(np.square(ch1)))*1e3\n",
        "\n",
        "print(f\"RMS value: {rms} mVrms\")"
      ],
      "metadata": {
        "cellView": "form",
        "id": "JAHwKzyUEAI-"
      },
      "execution_count": null,
      "outputs": []
    },
    {
      "cell_type": "markdown",
      "source": [
        "# ... and apply an averaging filter\n",
        "\n",
        "\n",
        "*   The downsampling factor is equivalent to the Oversampling Ratio (OSR)\n",
        "*   The output data rate decreases with OSR. It can be adjusted closer the signal frequency\n",
        "\n"
      ],
      "metadata": {
        "id": "ki5ejxOJEiwR"
      }
    },
    {
      "cell_type": "code",
      "source": [
        "#@title Plot the LT1782 Data together with the averaged output\n",
        "import pandas as pd\n",
        "import matplotlib.pyplot as plt\n",
        "from scipy import signal\n",
        "\n",
        "# Assuming you have a DataFrame named 'df' with columns 'Time(S)' and 'CH1(V)'\n",
        "\n",
        "# Extract the data from the DataFrame\n",
        "time = lt1752_df['Time(S)']\n",
        "ch1 = lt1752_df['CH1(V)']\n",
        "\n",
        "# Define the downsampling factor and averaging window size\n",
        "downsample_factor = 16\n",
        "window_size = 16\n",
        "\n",
        "# Apply the digital filter, downsampling, and averaging\n",
        "filtered_ch1 = signal.decimate(ch1, downsample_factor, zero_phase=True, axis=0)\n",
        "filtered_time = signal.decimate(time, downsample_factor, zero_phase=True, axis=0)\n",
        "\n",
        "# Calculate the number of samples to retain\n",
        "num_samples = len(filtered_ch1) // window_size * window_size\n",
        "\n",
        "# Average every 16 samples\n",
        "filtered_ch1 = filtered_ch1[:num_samples].reshape(-1, window_size).mean(axis=1)\n",
        "filtered_time = filtered_time[:num_samples:window_size]\n",
        "\n",
        "# Create a new DataFrame with the filtered data\n",
        "filtered_df = pd.DataFrame({'Time(S)': filtered_time, 'CH1(V)': filtered_ch1})\n",
        "\n",
        "# Plot the original and filtered signals on the same figure\n",
        "plt.figure(figsize=(10, 6))\n",
        "plt.plot(time, ch1, label='Original CH1(V)')\n",
        "plt.plot(filtered_time, filtered_ch1,'o-', label='Filtered CH1(V)')\n",
        "plt.xlabel('Time (S)')\n",
        "plt.ylabel('CH1 (V)')\n",
        "plt.title('Original and Filtered CH1(V)')\n",
        "plt.legend()\n",
        "plt.grid(True)\n",
        "plt.show()\n",
        "\n",
        "# Calculate the RMS value\n",
        "rms = np.sqrt(np.mean(np.square(ch1)))*1e3\n",
        "rms_filtered = np.sqrt(np.mean(np.square(filtered_ch1)))*1e3\n",
        "print(f\"RMS value after filtering the data: {rms_filtered} mVrms, compared to the unfiltered {rms} mVrms\")"
      ],
      "metadata": {
        "cellView": "form",
        "id": "nvm8PQtNDnCz"
      },
      "execution_count": null,
      "outputs": []
    },
    {
      "cell_type": "markdown",
      "source": [
        "# Implement a Moving Average Filter instead "
      ],
      "metadata": {
        "id": "Ct-egE5AEWLD"
      }
    },
    {
      "cell_type": "code",
      "source": [
        "#@title Plot LT1782 after applying a moving average filter\n",
        "import pandas as pd\n",
        "import numpy as np\n",
        "import matplotlib.pyplot as plt\n",
        "\n",
        "# Assuming you have a DataFrame named 'df' with columns 'Time(S)' and 'CH1(V)'\n",
        "\n",
        "# Extract the data from the DataFrame\n",
        "time = lt1782_df['Time(S)']\n",
        "ch1 = lt1782_df['CH1(V)']\n",
        "\n",
        "# Define the moving average window size\n",
        "window_size = 126\n",
        "\n",
        "# Apply the moving average filter\n",
        "filtered_ch1 = ch1.rolling(window=window_size, center=True).mean()\n",
        "\n",
        "# Plot the original and filtered signals\n",
        "plt.figure(figsize=(10, 6))\n",
        "plt.plot(time, ch1, label='Original CH1(V)')\n",
        "plt.plot(time, filtered_ch1,'.', label='Filtered CH1(V)')\n",
        "plt.xlabel('Time (s)')\n",
        "plt.ylabel('CH1 (V)')\n",
        "plt.title('Original and Filtered CH1(V)')\n",
        "plt.legend()\n",
        "plt.grid(True)\n",
        "plt.show()\n",
        "# Calculate the RMS value\n",
        "rms = np.sqrt(np.mean(np.square(ch1)))*1e3\n",
        "rms_filtered = np.sqrt(np.mean(np.square(filtered_ch1)))*1e3\n",
        "print(f\"RMS value after filtering the data: {rms_filtered} mVrms, compared to the unfiltered {rms} mVrms\")"
      ],
      "metadata": {
        "cellView": "form",
        "id": "zgU9Y3GcEVtY"
      },
      "execution_count": null,
      "outputs": []
    },
    {
      "cell_type": "markdown",
      "source": [
        "# Let's use the data taken from ADALM2000 Oscilloscope\n",
        "This the signal gathered on the oscilloscope when shorting the analog inputs:"
      ],
      "metadata": {
        "id": "1KbxozQ1OpPK"
      }
    },
    {
      "cell_type": "code",
      "source": [
        "import pandas as pd\n",
        "import matplotlib.pyplot as plt\n",
        "import numpy as np\n",
        "\n",
        "\n",
        "# Extract the data from the DataFrame\n",
        "time = adalm2000_df['Time(S)']\n",
        "ch1 = adalm2000_df['CH1(V)']\n",
        "\n",
        "# Plot 'CH1(V)' against 'Time(s)'\n",
        "plt.figure(figsize=(10, 6))\n",
        "plt.plot(time, ch1)\n",
        "plt.xlabel('Time (s)')\n",
        "plt.ylabel('CH1 (V)')\n",
        "plt.title('CH1 vs Time')\n",
        "plt.grid(True)\n",
        "plt.show()\n",
        "\n",
        "# Calculate the RMS value\n",
        "rms = np.sqrt(np.mean(np.square(ch1)))*1e6\n",
        "\n",
        "print(f\"RMS value: {rms} \\u03BC Vrms\")"
      ],
      "metadata": {
        "id": "OLqhGruZO1k-"
      },
      "execution_count": null,
      "outputs": []
    },
    {
      "cell_type": "markdown",
      "source": [
        "# Let's apply a FIR (Finite Impulse Response) filter"
      ],
      "metadata": {
        "id": "giG9q1HMAPtv"
      }
    },
    {
      "cell_type": "code",
      "source": [
        "import pandas as pd\n",
        "import matplotlib.pyplot as plt\n",
        "from scipy import signal\n",
        "\n",
        "# Assuming you have a DataFrame named 'df' with columns 'Time(s)' and 'CH1(V)' like the importeed on the first Cell\n",
        "\n",
        "# Extract the data from the DataFrame\n",
        "time = adalm2000_df['Time(S)']\n",
        "ch1 = adalm2000_df['CH1(V)']\n",
        "\n",
        "# Design the FIR filter\n",
        "order = 51  # Filter order\n",
        "cutoff_freq = 1000  # Cutoff frequency in Hz\n",
        "nyquist_freq = 0.5 / (time[1] - time[0])  # Nyquist frequency\n",
        "normalized_cutoff = cutoff_freq / nyquist_freq\n",
        "fir_coeffs = signal.firwin(order, normalized_cutoff)\n",
        "\n",
        "# Apply the FIR filter to the data\n",
        "filtered_ch1 = signal.lfilter(fir_coeffs, 1.0, ch1)\n",
        "\n",
        "# Plot 'CH1(V)' against 'Time(s)' (Original and Filtered)\n",
        "plt.figure(figsize=(10, 6))\n",
        "plt.plot(time, ch1, label='Original CH1(V)')\n",
        "plt.plot(time, filtered_ch1, label='Filtered CH1(V)')\n",
        "plt.xlabel('Time (s)')\n",
        "plt.ylabel('CH1 (V)')\n",
        "plt.title('CH1 vs Time (Original and Filtered)')\n",
        "plt.legend()\n",
        "plt.grid(True)\n",
        "plt.show()\n"
      ],
      "metadata": {
        "id": "zbz9GsMkAPMn"
      },
      "execution_count": null,
      "outputs": []
    },
    {
      "cell_type": "markdown",
      "source": [
        "# Let's apply an IIR (Infinite Impulse Response) filter"
      ],
      "metadata": {
        "id": "4gsCXe_PSXM9"
      }
    },
    {
      "cell_type": "code",
      "source": [
        "import pandas as pd\n",
        "import matplotlib.pyplot as plt\n",
        "from scipy import signal\n",
        "\n",
        "# Assuming you have a DataFrame named 'df' with columns 'Time(s)' and 'CH1(V)'\n",
        "\n",
        "# Extract the data from the DataFrame\n",
        "time = lt1782_df['Time(S)']\n",
        "ch1 = lt1782_df['CH1(V)']\n",
        "\n",
        "# Design the IIR filter\n",
        "order = 10  # Filter order\n",
        "cutoff_freq = 10  # Cutoff frequency in Hz\n",
        "b, a = signal.butter(order, cutoff_freq, fs=1/(time[1] - time[0]))\n",
        "\n",
        "# Apply the IIR filter to the data\n",
        "filtered_ch1 = signal.lfilter(b, a, ch1)\n",
        "\n",
        "# Plot 'CH1(V)' against 'Time(s)' (Original and Filtered)\n",
        "plt.figure(figsize=(10, 6))\n",
        "plt.plot(time, ch1, label='Original CH1(V)')\n",
        "plt.plot(time, filtered_ch1, label='Filtered CH1(V)')\n",
        "plt.xlabel('Time (s)')\n",
        "plt.ylabel('CH1 (V)')\n",
        "plt.title('CH1 vs Time (Original and Filtered)')\n",
        "plt.legend()\n",
        "plt.grid(True)\n",
        "plt.show()\n",
        "\n",
        "# Calculate the RMS value\n",
        "rms = np.sqrt(np.mean(np.square(ch1)))*1e3\n",
        "rms_filtered = np.sqrt(np.mean(np.square(filtered_ch1)))*1e3\n",
        "print(f\"RMS value after filtering the data: {rms_filtered} mVrms, compared to the unfiltered {rms} mVrms\")\n"
      ],
      "metadata": {
        "id": "FQPsX6dcBsD5"
      },
      "execution_count": null,
      "outputs": []
    },
    {
      "cell_type": "code",
      "source": [
        "import numpy as np\n",
        "import scipy.signal as signal\n",
        "\n",
        "# Parameters\n",
        "original_sampling_rate = 1000  # Original sampling rate\n",
        "desired_sampling_rate = 4000  # Desired oversampling rate\n",
        "cutoff_frequency = 100  # Cutoff frequency of the filters\n",
        "order = 4  # IIR filter order\n",
        "\n",
        "# Apply oversampling\n",
        "resampled_signal = signal.resample(ch1, len(ch1) * (desired_sampling_rate // original_sampling_rate))\n",
        "\n",
        "# Apply IIR filtering\n",
        "b, a = signal.butter(order, cutoff_frequency / (desired_sampling_rate / 2), 'low')\n",
        "iir_filtered_signal = signal.lfilter(b, a, resampled_signal)\n",
        "\n",
        "# Plot the data before and after filtering\n",
        "plt.figure(figsize=(10, 6))\n",
        "\n",
        "# Plot original data\n",
        "plt.subplot(2, 1, 1)\n",
        "plt.plot(time, ch1, 'b', label='Original Data')\n",
        "plt.xlabel('Time')\n",
        "plt.ylabel('Amplitude')\n",
        "plt.title('Original Data')\n",
        "plt.legend()\n",
        "\n",
        "# Plot oversampled data after IIR filtering\n",
        "plt.subplot(2, 1, 2)\n",
        "plt.plot(np.arange(len(iir_filtered_signal)) / desired_sampling_rate, iir_filtered_signal, 'g', label='IIR Filtered Data')\n",
        "plt.xlabel('Time')\n",
        "plt.ylabel('Amplitude')\n",
        "plt.title('IIR Filtered Data')\n",
        "plt.legend()\n",
        "plt.tight_layout()\n",
        "plt.show()\n",
        "\n",
        "# Calculate the RMS value\n",
        "rms = np.sqrt(np.mean(np.square(iir_filtered_signal)))*1e6\n",
        "\n",
        "print(f\"RMS value: {rms} \\u03BC Vrms\")"
      ],
      "metadata": {
        "id": "YFRJED1-SwEM"
      },
      "execution_count": null,
      "outputs": []
    },
    {
      "cell_type": "markdown",
      "source": [
        "# Let's apply a SINC filter"
      ],
      "metadata": {
        "id": "A38_ieK2UiY6"
      }
    },
    {
      "cell_type": "code",
      "source": [
        "import numpy as np\n",
        "import scipy.signal as signal\n",
        "\n",
        "# Parameters\n",
        "original_sampling_rate = 1000  # Original sampling rate\n",
        "desired_sampling_rate = 4000  # Desired oversampling rate\n",
        "cutoff_frequency = 100  # Cutoff frequency of the filters\n",
        "filter_length = 101  # Sinc filter length\n",
        "\n",
        "# Apply oversampling\n",
        "resampled_signal = signal.resample(ch1, len(ch1) * (desired_sampling_rate // original_sampling_rate))\n",
        "\n",
        "# Apply Sinc filtering\n",
        "taps = signal.firwin(filter_length, cutoff_frequency, window='hamming', fs=desired_sampling_rate)\n",
        "sinc_filtered_signal = signal.lfilter(taps, 1, resampled_signal)\n",
        "\n",
        "# Plot the data before and after filtering\n",
        "plt.figure(figsize=(10, 6))\n",
        "\n",
        "# Plot original data\n",
        "plt.subplot(2, 1, 1)\n",
        "plt.plot(time, ch1, 'b', label='Original Data')\n",
        "plt.xlabel('Time')\n",
        "plt.ylabel('Amplitude')\n",
        "plt.title('Original Data')\n",
        "plt.legend()\n",
        "\n",
        "# Plot oversampled data after Sinc filtering\n",
        "plt.subplot(2, 1, 2)\n",
        "plt.plot(np.arange(len(sinc_filtered_signal)) / desired_sampling_rate, sinc_filtered_signal, 'r', label='Sinc Filtered Data')\n",
        "plt.xlabel('Time')\n",
        "plt.ylabel('Amplitude')\n",
        "plt.title('Sinc Filtered Data')\n",
        "plt.legend()\n",
        "\n",
        "plt.tight_layout()\n",
        "plt.show()\n",
        "\n",
        "# Calculate the RMS value\n",
        "rms = np.sqrt(np.mean(np.square(sinc_filtered_signal)))*1e6\n",
        "\n",
        "print(f\"RMS value: {rms} \\u03BC Vrms\")"
      ],
      "metadata": {
        "id": "6U0F7VJ3Ufk1"
      },
      "execution_count": null,
      "outputs": []
    }
  ]
}