{
  "nbformat": 4,
  "nbformat_minor": 0,
  "metadata": {
    "colab": {
      "provenance": [],
      "authorship_tag": "ABX9TyNITnQFEUuIvuoOMaLHEZV6",
      "include_colab_link": true
    },
    "kernelspec": {
      "name": "python3",
      "display_name": "Python 3"
    },
    "language_info": {
      "name": "python"
    }
  },
  "cells": [
    {
      "cell_type": "markdown",
      "metadata": {
        "id": "view-in-github",
        "colab_type": "text"
      },
      "source": [
        "<a href=\"https://colab.research.google.com/github/lbeltran-adi/SemitronSeminar/blob/main/DigitalFiltering.ipynb\" target=\"_parent\"><img src=\"https://colab.research.google.com/assets/colab-badge.svg\" alt=\"Open In Colab\"/></a>"
      ]
    },
    {
      "cell_type": "markdown",
      "source": [
        "# First of all, let's import the data gathered from LT1752, ADA4077 and ADA4522"
      ],
      "metadata": {
        "id": "B4Y3W4RNIoFb"
      }
    },
    {
      "cell_type": "code",
      "source": [
        "import pandas as pd\n",
        "\n",
        "#Import the datasets:\n",
        "url         = 'https://raw.githubusercontent.com/lbeltran-adi/SemitronSeminar/main/oscilloscope_data.csv'\n",
        "lt1782_url  = 'https://raw.githubusercontent.com/lbeltran-adi/SemitronSeminar/main/LT1782_Low_Power.csv'\n",
        "ada4077_url = 'https://raw.githubusercontent.com/lbeltran-adi/SemitronSeminar/main/ADA4077_Low_Noise.csv'\n",
        "ada4522_url = 'https://raw.githubusercontent.com/lbeltran-adi/SemitronSeminar/main/ADA4522_Zero_Drift.csv'\n",
        "\n",
        "#create a dataframe with each of them\n",
        "adalm2000_df = pd.read_csv(url)\n",
        "lt1782_df    = pd.read_csv(lt1782_url)\n",
        "ada4077_df   = pd.read_csv(ada4077_url)\n",
        "ada4522_df    = pd.read_csv(ada4522_url)\n"
      ],
      "metadata": {
        "id": "XhBLemYB1lI7"
      },
      "execution_count": 7,
      "outputs": []
    },
    {
      "cell_type": "markdown",
      "source": [
        "# Let's take the Oscilloscope Data when LT1782 was selected on the demo board...\n"
      ],
      "metadata": {
        "id": "B6viaYXHEAqV"
      }
    },
    {
      "cell_type": "code",
      "source": [
        "#@title Plot the LT1782 Data\n",
        "\n",
        "import pandas as pd\n",
        "import matplotlib.pyplot as plt\n",
        "import numpy as np\n",
        "\n",
        "\n",
        "# Extract the data from the DataFrame\n",
        "time = lt1782_df['Time(S)']\n",
        "ch1 = lt1782_df['CH1(V)']\n",
        "\n",
        "# Plot 'CH1(V)' against 'Time(s)'\n",
        "plt.figure(figsize=(10, 6))\n",
        "plt.plot(time, ch1)\n",
        "plt.xlabel('Time (s)')\n",
        "plt.ylabel('CH1 (V)')\n",
        "plt.title('CH1 vs Time')\n",
        "plt.grid(True)\n",
        "plt.show()\n",
        "\n",
        "# Calculate the RMS value\n",
        "rms = np.sqrt(np.mean(np.square(ch1)))*1e3\n",
        "\n",
        "print(f\"RMS value: {rms} mVrms\")"
      ],
      "metadata": {
        "cellView": "form",
        "id": "JAHwKzyUEAI-"
      },
      "execution_count": null,
      "outputs": []
    },
    {
      "cell_type": "markdown",
      "source": [
        "# ... and apply an averaging filter\n",
        "\n",
        "\n",
        "*   The downsampling factor is equivalent to the Oversampling Ratio (OSR)\n",
        "*   The output data rate decreases with OSR. It can be adjusted closer the signal frequency\n",
        "\n"
      ],
      "metadata": {
        "id": "ki5ejxOJEiwR"
      }
    },
    {
      "cell_type": "code",
      "source": [
        "#@title Plot the LT1782 Data together with the averaged output\n",
        "import pandas as pd\n",
        "import matplotlib.pyplot as plt\n",
        "from scipy import signal\n",
        "\n",
        "# Assuming you have a DataFrame named 'df' with columns 'Time(S)' and 'CH1(V)'\n",
        "\n",
        "# Extract the data from the DataFrame\n",
        "time = lt1782_df['Time(S)']\n",
        "ch1 = lt1782_df['CH1(V)']\n",
        "\n",
        "# Define the downsampling factor and averaging window size\n",
        "downsample_factor = 16\n",
        "window_size = 16\n",
        "\n",
        "# Apply the digital filter, downsampling, and averaging\n",
        "filtered_ch1 = signal.decimate(ch1, downsample_factor, zero_phase=True, axis=0)\n",
        "filtered_time = signal.decimate(time, downsample_factor, zero_phase=True, axis=0)\n",
        "\n",
        "# Calculate the number of samples to retain\n",
        "num_samples = len(filtered_ch1) // window_size * window_size\n",
        "\n",
        "# Average every 16 samples\n",
        "filtered_ch1 = filtered_ch1[:num_samples].reshape(-1, window_size).mean(axis=1)\n",
        "filtered_time = filtered_time[:num_samples:window_size]\n",
        "\n",
        "# Create a new DataFrame with the filtered data\n",
        "filtered_df = pd.DataFrame({'Time(S)': filtered_time, 'CH1(V)': filtered_ch1})\n",
        "\n",
        "# Plot the original and filtered signals on the same figure\n",
        "plt.figure(figsize=(10, 6))\n",
        "plt.plot(time, ch1, label='Original CH1(V)')\n",
        "plt.plot(filtered_time, filtered_ch1,'o-', label='Filtered CH1(V)')\n",
        "plt.xlabel('Time (S)')\n",
        "plt.ylabel('CH1 (V)')\n",
        "plt.title('Original and Filtered CH1(V)')\n",
        "plt.legend()\n",
        "plt.grid(True)\n",
        "plt.show()\n",
        "\n",
        "# Calculate the RMS value\n",
        "rms = np.sqrt(np.mean(np.square(ch1)))*1e3\n",
        "rms_filtered = np.sqrt(np.mean(np.square(filtered_ch1)))*1e3\n",
        "print(f\"RMS value after filtering the data: {rms_filtered} mVrms, compared to the unfiltered {rms} mVrms\")"
      ],
      "metadata": {
        "cellView": "form",
        "id": "nvm8PQtNDnCz"
      },
      "execution_count": null,
      "outputs": []
    },
    {
      "cell_type": "markdown",
      "source": [
        "# Implement a Moving Average Filter instead "
      ],
      "metadata": {
        "id": "Ct-egE5AEWLD"
      }
    },
    {
      "cell_type": "code",
      "source": [
        "#@title Plot LT1782 after applying a moving average filter\n",
        "import pandas as pd\n",
        "import numpy as np\n",
        "import matplotlib.pyplot as plt\n",
        "\n",
        "# Assuming you have a DataFrame named 'df' with columns 'Time(S)' and 'CH1(V)'\n",
        "\n",
        "# Extract the data from the DataFrame\n",
        "time = lt1782_df['Time(S)']\n",
        "ch1 = lt1782_df['CH1(V)']\n",
        "\n",
        "# Define the moving average window size\n",
        "window_size = 126\n",
        "\n",
        "# Apply the moving average filter\n",
        "filtered_ch1 = ch1.rolling(window=window_size, center=True).mean()\n",
        "\n",
        "# Plot the original and filtered signals\n",
        "plt.figure(figsize=(10, 6))\n",
        "plt.plot(time, ch1, label='Original CH1(V)')\n",
        "plt.plot(time, filtered_ch1,'.', label='Filtered CH1(V)')\n",
        "plt.xlabel('Time (s)')\n",
        "plt.ylabel('CH1 (V)')\n",
        "plt.title('Original and Filtered CH1(V)')\n",
        "plt.legend()\n",
        "plt.grid(True)\n",
        "plt.show()\n",
        "# Calculate the RMS value\n",
        "rms = np.sqrt(np.mean(np.square(ch1)))*1e3\n",
        "rms_filtered = np.sqrt(np.mean(np.square(filtered_ch1)))*1e3\n",
        "print(f\"RMS value after filtering the data: {rms_filtered} mVrms, compared to the unfiltered {rms} mVrms\")"
      ],
      "metadata": {
        "cellView": "form",
        "id": "zgU9Y3GcEVtY"
      },
      "execution_count": null,
      "outputs": []
    },
    {
      "cell_type": "markdown",
      "source": [
        "# Let's apply a FIR (Finite Impulse Response) filter"
      ],
      "metadata": {
        "id": "giG9q1HMAPtv"
      }
    },
    {
      "cell_type": "code",
      "source": [
        "#@title Plot LT1782 after applying a FIR filter\n",
        "import pandas as pd\n",
        "import matplotlib.pyplot as plt\n",
        "from scipy import signal\n",
        "\n",
        "# Assuming you have a DataFrame named 'df' with columns 'Time(s)' and 'CH1(V)' like the importeed on the first Cell\n",
        "\n",
        "# Extract the data from the DataFrame\n",
        "time = lt1782_df['Time(S)']\n",
        "ch1 = lt1782_df['CH1(V)']\n",
        "\n",
        "# Design the FIR filter\n",
        "order = 51  # Filter order\n",
        "cutoff_freq = 10  # Cutoff frequency in Hz\n",
        "nyquist_freq = 0.5 / (time[1] - time[0])  # Nyquist frequency\n",
        "normalized_cutoff = cutoff_freq / nyquist_freq\n",
        "fir_coeffs = signal.firwin(order, normalized_cutoff)\n",
        "\n",
        "# Apply the FIR filter to the data\n",
        "filtered_ch1 = signal.lfilter(fir_coeffs, 1.0, ch1)\n",
        "\n",
        "# Plot 'CH1(V)' against 'Time(s)' (Original and Filtered)\n",
        "plt.figure(figsize=(10, 6))\n",
        "plt.plot(time, ch1, label='Original CH1(V)')\n",
        "plt.plot(time, filtered_ch1, label='Filtered CH1(V)')\n",
        "plt.xlabel('Time (s)')\n",
        "plt.ylabel('CH1 (V)')\n",
        "plt.title('CH1 vs Time (Original and Filtered)')\n",
        "plt.legend()\n",
        "plt.grid(True)\n",
        "plt.show()\n"
      ],
      "metadata": {
        "id": "zbz9GsMkAPMn",
        "cellView": "form"
      },
      "execution_count": null,
      "outputs": []
    },
    {
      "cell_type": "markdown",
      "source": [
        "# Let's apply an IIR (Infinite Impulse Response) filter"
      ],
      "metadata": {
        "id": "4gsCXe_PSXM9"
      }
    },
    {
      "cell_type": "code",
      "source": [
        "#@title Plot LT1782 after applying an IIR filter\n",
        "import pandas as pd\n",
        "import matplotlib.pyplot as plt\n",
        "from scipy import signal\n",
        "\n",
        "# Assuming you have a DataFrame named 'df' with columns 'Time(s)' and 'CH1(V)'\n",
        "\n",
        "# Extract the data from the DataFrame\n",
        "time = lt1782_df['Time(S)']\n",
        "ch1 = lt1782_df['CH1(V)']\n",
        "\n",
        "# Design the IIR filter\n",
        "order = 10  # Filter order\n",
        "cutoff_freq = 10  # Cutoff frequency in Hz\n",
        "b, a = signal.butter(order, cutoff_freq, fs=1/(time[1] - time[0]))\n",
        "\n",
        "# Apply the IIR filter to the data\n",
        "filtered_ch1 = signal.lfilter(b, a, ch1)\n",
        "\n",
        "# Plot 'CH1(V)' against 'Time(s)' (Original and Filtered)\n",
        "plt.figure(figsize=(10, 6))\n",
        "plt.plot(time, ch1, label='Original CH1(V)')\n",
        "plt.plot(time, filtered_ch1, label='Filtered CH1(V)')\n",
        "plt.xlabel('Time (s)')\n",
        "plt.ylabel('CH1 (V)')\n",
        "plt.title('CH1 vs Time (Original and Filtered)')\n",
        "plt.legend()\n",
        "plt.grid(True)\n",
        "plt.show()\n",
        "\n",
        "# Calculate the RMS value\n",
        "rms = np.sqrt(np.mean(np.square(ch1)))*1e3\n",
        "rms_filtered = np.sqrt(np.mean(np.square(filtered_ch1)))*1e3\n",
        "print(f\"RMS value after filtering the data: {rms_filtered} mVrms, compared to the unfiltered {rms} mVrms\")\n"
      ],
      "metadata": {
        "id": "FQPsX6dcBsD5",
        "cellView": "form"
      },
      "execution_count": null,
      "outputs": []
    }
  ]
}